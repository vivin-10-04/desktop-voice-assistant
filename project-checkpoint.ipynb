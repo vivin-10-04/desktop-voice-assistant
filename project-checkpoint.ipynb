{
 "cells": [
  {
   "cell_type": "code",
   "execution_count": 1,
   "metadata": {},
   "outputs": [],
   "source": [
    "import pyttsx3\n",
    "import speech_recognition as sr\n",
    "import datetime\n",
    "import pywhatkit as kit\n",
    "import wikipedia as wiki\n",
    "import webbrowser as wb\n",
    "import os \n",
    "import cv2\n",
    "r = sr.Recognizer()"
   ]
  },
  {
   "cell_type": "code",
   "execution_count": 2,
   "metadata": {},
   "outputs": [],
   "source": [
    "def speech_to_text():\n",
    "    with sr.Microphone() as source:\n",
    "        print(\"Listening...\")\n",
    "        r.pause_threshold=1\n",
    "        audio = r.listen(source)\n",
    "\n",
    "    try:\n",
    "        print(\"Recognizing..\")\n",
    "        query= r.recognize_google(audio, language = 'en-in')\n",
    "\n",
    "    except Exception as e:\n",
    "        print(e)\n",
    "        print(\"I couldnt get that\")\n",
    "        return \"None\"\n",
    "\n",
    "    return query\n",
    "  "
   ]
  },
  {
   "cell_type": "code",
   "execution_count": 3,
   "metadata": {},
   "outputs": [],
   "source": [
    "def cam():\n",
    "    vid = cv2.VideoCapture(0)\n",
    "    while True:\n",
    "        ret , frame = vid.read()\n",
    "         # Display the resulting frame\n",
    "        cv2.imshow('press q to quit', frame)\n",
    "        \n",
    "        # the 'q' button is set as the\n",
    "        # quitting button you may use any\n",
    "        # desired button of your choice\n",
    "        if cv2.waitKey(1) & 0xFF == ord('q'):\n",
    "            break\n",
    "  \n",
    "    # After the loop release the cap object\n",
    "    vid.release()\n",
    "    # Destroy all the windows\n",
    "    cv2.destroyAllWindows()"
   ]
  },
  {
   "cell_type": "code",
   "execution_count": 4,
   "metadata": {},
   "outputs": [
    {
     "name": "stdout",
     "output_type": "stream",
     "text": [
      "what is your name\n",
      "Listening...\n",
      "Recognizing..\n",
      "\n",
      "I couldnt get that\n"
     ]
    }
   ],
   "source": [
    "engine = pyttsx3.init()\n",
    "engine.setProperty('rate',270)\n",
    "voices= engine.getProperty('voices')\n",
    "engine.setProperty('voice',voices[0].id)\n",
    "def text_to_speech(text):\n",
    "    engine.say(text)\n",
    "    engine.runAndWait()\n",
    "    print(text)\n",
    "\n",
    "text_to_speech(\"what is your name\")\n",
    "name = speech_to_text()\n"
   ]
  },
  {
   "cell_type": "code",
   "execution_count": 5,
   "metadata": {},
   "outputs": [
    {
     "name": "stdout",
     "output_type": "stream",
     "text": [
      "good morning None! I am your personal voice assistant.\n",
      "how can i help you\n"
     ]
    }
   ],
   "source": [
    "date = datetime.datetime.now()\n",
    "date1 = date.strftime(\"%d/%m/%Y\")\n",
    "time = date.strftime(' %H:%M:%S')\n",
    "months = ['January', 'February', 'March', 'April', 'May', 'June', 'July', 'August', 'September', 'October', 'November', 'December']\n",
    "def current_date():\n",
    "    text_to_speech(f'{date.strftime(\"%d\")} {months[int(date.strftime(\"%m\"))]},{date.strftime(\"%Y\")}')\n",
    "def current_time():\n",
    "    text_to_speech( date.strftime(' %H:%M:%S'))\n",
    "if(int(time[0:2])< 12):\n",
    "    greeting = \"good morning\"\n",
    "elif(12>=int(time[0:2])>4):\n",
    "    greeting = \"good afternoon\"\n",
    "else:\n",
    "    greeting = \"good evening\"\n",
    "text_to_speech(f'{greeting} {name}! I am your personal voice assistant.')\n",
    "text_to_speech(f'how can i help you')\n"
   ]
  },
  {
   "cell_type": "code",
   "execution_count": null,
   "metadata": {},
   "outputs": [
    {
     "name": "stdout",
     "output_type": "stream",
     "text": [
      "Listening...\n",
      "Recognizing..\n",
      "Listening...\n",
      "Recognizing..\n",
      "I was made by vivin\n",
      "Listening...\n",
      "Recognizing..\n",
      "sorry i can't do that\n",
      "Listening...\n"
     ]
    }
   ],
   "source": [
    "if __name__ == '__main__':\n",
    "    while True:\n",
    "        a = speech_to_text()\n",
    "        if a == 'None' :\n",
    "            a = 'Vivin'\n",
    "        \n",
    "        a = a.lower()\n",
    "        if( a == \"stop\" or a == 'bye'):\n",
    "            text_to_speech(\"good bye\")\n",
    "            break\n",
    "        elif \"current time\" in a:\n",
    "            current_time()\n",
    "        elif \"today's date\" in a:\n",
    "            current_date()\n",
    "        elif ( \"how are you\" in a or  \"how are u feeling\" in a):\n",
    "            text_to_speech(\"I am fine! Hope the same for you\")\n",
    "        elif \"wikipedia\" in a :\n",
    "            a = a.replace(\"wikipedia\",\"\")\n",
    "            text_to_speech(wiki.summary(a,sentences=3))\n",
    "        elif \"send whatsapp message\" in a:\n",
    "            text_to_speech(\"say the number\")\n",
    "            b= speech_to_text()\n",
    "            c  = b.replace(\" \",'')\n",
    "            text_to_speech(\"say the message\")\n",
    "            message = speech_to_text()\n",
    "            kit.sendwhatmsg_instantly(f\"+91{c}\",f'{message}', 12)\n",
    "        elif \"open youtube\" in a:\n",
    "            wb.open_new_tab('https://www.youtube.com')\n",
    "        elif \"open google\" in a:\n",
    "            wb.open_new_tab('https://google.com')\n",
    "        elif \" on youtube\" in a:\n",
    "            a = a.replace(\"on youtube\",\"\")\n",
    "            kit.playonyt(a)\n",
    "        elif \"play \" in a:\n",
    "            kit.playonyt(a)\n",
    "        elif \"who created you\" in a or \"who made you\" in a:\n",
    "            text_to_speech(\"I was made by vivin\")\n",
    "        elif \"can you do\" in a or \" you capable of\" in a:\n",
    "            text_to_speech(\"I am a voice assistant. made to assist you\")\n",
    "        elif \"search\" in a:\n",
    "            a = a.replace(\"search\",\"\")\n",
    "            kit.search(a)\n",
    "        elif \"my favourite song\" in a:\n",
    "            wb.open_new_tab('https://www.youtube.com/watch?v=EbHhQfTvMSA')\n",
    "        elif \"artificial intelligence\" in a:\n",
    "            text_to_speech(ai(a))\n",
    "        elif \"open camera\" in a:\n",
    "            cam()\n",
    "        else:\n",
    "            text_to_speech(\"sorry i can't do that\")\n"
   ]
  },
  {
   "cell_type": "code",
   "execution_count": null,
   "metadata": {},
   "outputs": [],
   "source": [
    "\n",
    "\n",
    "\n",
    "\n",
    "\n",
    "\n",
    "\n",
    "\n",
    "\n"
   ]
  },
  {
   "cell_type": "code",
   "execution_count": null,
   "metadata": {},
   "outputs": [],
   "source": []
  },
  {
   "cell_type": "code",
   "execution_count": null,
   "metadata": {},
   "outputs": [],
   "source": []
  }
 ],
 "metadata": {
  "kernelspec": {
   "display_name": "Python 3 (ipykernel)",
   "language": "python",
   "name": "python3"
  },
  "language_info": {
   "codemirror_mode": {
    "name": "ipython",
    "version": 3
   },
   "file_extension": ".py",
   "mimetype": "text/x-python",
   "name": "python",
   "nbconvert_exporter": "python",
   "pygments_lexer": "ipython3",
   "version": "3.12.0"
  }
 },
 "nbformat": 4,
 "nbformat_minor": 4
}
